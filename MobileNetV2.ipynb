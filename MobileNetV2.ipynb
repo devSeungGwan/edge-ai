{
  "nbformat": 4,
  "nbformat_minor": 0,
  "metadata": {
    "colab": {
      "name": "MobileNetV2.ipynb",
      "private_outputs": true,
      "provenance": [],
      "collapsed_sections": [],
      "toc_visible": true,
      "authorship_tag": "ABX9TyMLXUVkzHTts5FUiuSM8FgP"
    },
    "kernelspec": {
      "name": "python3",
      "display_name": "Python 3"
    }
  },
  "cells": [
    {
      "cell_type": "markdown",
      "metadata": {
        "id": "Mat42uNQa6P3"
      },
      "source": [
        "## Import Lib"
      ]
    },
    {
      "cell_type": "code",
      "metadata": {
        "id": "5HPTGc0YZqAU"
      },
      "source": [
        "import torch\r\n",
        "import torch.nn as nn\r\n",
        "import torch.optim as optim\r\n",
        "import torch.functional as f\r\n",
        "from torchvision import transforms\r\n",
        "\r\n",
        "from PIL import Image\r\n",
        "import urllib\r\n",
        "import math\r\n",
        "import numpy as np\r\n",
        "import pandas as pd\r\n",
        "import matplotlib\r\n",
        "import matplotlib.pyplot as plt"
      ],
      "execution_count": null,
      "outputs": []
    },
    {
      "cell_type": "markdown",
      "metadata": {
        "id": "DbagA1oceogG"
      },
      "source": [
        "## 모델 학습"
      ]
    },
    {
      "cell_type": "code",
      "metadata": {
        "id": "pG5njLvfe5jK"
      },
      "source": [
        "model = torch.hub.load('pytorch/vision:v0.6.0', 'mobilenet_v2', pretrained=True)\r\n",
        "model.eval()"
      ],
      "execution_count": null,
      "outputs": []
    },
    {
      "cell_type": "code",
      "metadata": {
        "id": "H66o-nzlfrfd"
      },
      "source": [
        "url, filename = (\"https://github.com/pytorch/hub/raw/master/images/dog.jpg\", \"dog.jpg\")\r\n",
        "try: urllib.URLopener().retrieve(url, filename)\r\n",
        "except: urllib.request.urlretrieve(url, filename)"
      ],
      "execution_count": null,
      "outputs": []
    },
    {
      "cell_type": "code",
      "metadata": {
        "id": "dxc4jVKdf-LN"
      },
      "source": [
        "input_image = Image.open(filename)\r\n",
        "plt.imshow(input_image)\r\n",
        "\r\n",
        "preprocess = transforms.Compose([\r\n",
        "    transforms.Resize(256),\r\n",
        "    transforms.CenterCrop(224),\r\n",
        "    transforms.ToTensor(),\r\n",
        "    transforms.Normalize(\r\n",
        "        mean=[0.485, 0.456, 0.406], \r\n",
        "        std=[0.229, 0.224, 0.225]\r\n",
        "    )\r\n",
        "])\r\n",
        "input_tensor = preprocess(input_image)\r\n",
        "input_batch = input_tensor.unsqueeze(0)\r\n",
        "\r\n",
        "if torch.cuda.is_available():\r\n",
        "    input_batch = input_batch.to('cuda')\r\n",
        "    model.to('cuda')\r\n",
        "\r\n",
        "with torch.no_grad():\r\n",
        "    output = model(input_batch)\r\n",
        "\r\n",
        "probabilities = torch.nn.functional.softmax(output[0], dim=0)"
      ],
      "execution_count": null,
      "outputs": []
    },
    {
      "cell_type": "code",
      "metadata": {
        "id": "2cI52O5BhFWZ"
      },
      "source": [
        "!wget https://raw.githubusercontent.com/pytorch/hub/master/imagenet_classes.txt"
      ],
      "execution_count": null,
      "outputs": []
    },
    {
      "cell_type": "code",
      "metadata": {
        "id": "bygGLUA6hLPY"
      },
      "source": [
        "with open(\"imagenet_classes.txt\", \"r\") as f:\r\n",
        "    categories = [s.strip() for s in f.readlines()]\r\n",
        "\r\n",
        "top5_prob, top5_catid = torch.topk(probabilities, 5)\r\n",
        "for i in range(top5_prob.size(0)): \r\n",
        "    print(categories[top5_catid[i]], top5_prob[i].item())"
      ],
      "execution_count": null,
      "outputs": []
    }
  ]
}